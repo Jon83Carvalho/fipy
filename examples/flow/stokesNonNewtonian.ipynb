{
 "cells": [
  {
   "cell_type": "markdown",
   "metadata": {},
   "source": [
    "# Stokes Cavity wih an Ostwald fluid"
   ]
  },
  {
   "cell_type": "markdown",
   "metadata": {},
   "source": [
    "In this notebook the Stokes cavity example is re-worked to incorporate a time independent non-Newtonian fluid model.\n",
    "\n",
    "For Stokes cavity equation with a Newtonian fluid we used the following governing equations:\n",
    "\n",
    "$$\\begin{equation}\n",
    "\\nabla\\cdot(\\mu\\nabla\\mathbf{u})=\\nabla p\\tag{1}\\label{eq:StokesCav}\n",
    "\\end{equation}$$\n",
    "\n",
    "And the continuity equation for incompressible fluid \n",
    "\n",
    "$$\\begin{equation}\\tag{2}\\label{eq:Conteq}\n",
    "\\nabla\\cdot\\mathbf{u}=0\n",
    "\\end{equation}$$\n",
    "Where $\\mathbf{u}$ is the fluid velocity field, $\\mu$ is the dynamic viscosity and $p$ is the pressure field.\n",
    "\n",
    "In this example we will adapt the solution used to incorporate a time independent non-Newtonian fluid. Thus, the governing equation associated with momentum diffusion will have to be re-written as follows:\n",
    "\n",
    "$$\\begin{equation}\\tag{3}\\label{eq:StokesCav-PL}\n",
    "\\nabla\\cdot\\tau=\\nabla p\n",
    "\\end{equation}$$\n",
    "Where $\\tau$ is\n",
    "$$\\begin{equation}\\tag{4}\\label{eq:Stress-Tensor}\n",
    "\\tau=\\mu(\\dot\\gamma)\\dot\\gamma\n",
    "\\end{equation}$$\n",
    "For the apparent viscosity $\\mu(\\dot\\gamma)$ we will incorporate an Ostwald fluid model and therefore it is expressed as:\n",
    "$$\\begin{equation}\\tag{5}\\label{eq:Stress-PL}\n",
    "\\mu(\\dot\\gamma)=C|\\dot\\gamma|^{m-1}\n",
    "\\end{equation}$$\n",
    "Thus resulting in the final model below\n",
    "$$\\begin{equation}\\tag{6}\\label{eq:StokesCav-PL-1}\n",
    "\\nabla\\cdot(C\\dot|\\dot\\gamma|^{m-1}\\dot\\gamma)=\\nabla p\n",
    "\\end{equation}$$\n",
    "\n",
    "Where $C$ and $m$ are two material constants. $C$ is typically related to the diffusion of momentum and $m$ is associated to the fluid behavior. At this format we assume a generalized Newtonian fluid model. For a 2-D flow, $\\dot\\gamma$ can be written as:\n",
    "$$\\begin{equation}\\tag{7}\\label{eq:gamma-2D}\n",
    "\\dot\\gamma=\\left[ \\begin{array}{c c}\n",
    "2\\frac{\\partial u}{\\partial x} & \\left(\\frac{\\partial u}{\\partial y}+\\frac{\\partial v}{\\partial x} \\right)\\\\\n",
    "\\left(\\frac{\\partial u}{\\partial y}+\\frac{\\partial v}{\\partial x} \\right) & 2\\frac{\\partial v}{\\partial y}\n",
    "\\end{array}\\right]\n",
    "\\end{equation}$$\n",
    "Or in a compact form\n",
    "$$\n",
    "\\dot\\gamma=\\frac{1}{2}(\\nabla u+\\nabla u^T)\n",
    "$$\n",
    "We can then re-write $\\eqref{eq:StokesCav-PL-1}$ as\n",
    "$$\n",
    "\\begin{equation}\\tag{8}\\label{eq:StokesCav-PL-2}\n",
    "\\nabla\\cdot\\left(\\frac{C}{2}\\dot|\\dot\\gamma|^{m-1}\\nabla u\\right)+\\nabla\\cdot\\left(\\frac{C}{2}\\dot|\\dot\\gamma|^{m-1}\\nabla u^T\\right)=\\nabla p\n",
    "\\end{equation}\n",
    "$$\n",
    "We shaw work on Eq. $\\eqref{eq:StokesCav-PL-2}$ in order to obtain a better visualization of the equations to take place in the algorithm. In this case we re-write it using index notation, resulting in\n",
    "\n",
    "$$\n",
    "\\begin{equation}\\tag{9}\\label{eq:StokesCav-PL-3}\n",
    "\\frac{\\partial }{\\partial x_i}\\left(\\frac{C}{2}|\\dot\\gamma|^{m-1}\\frac{\\partial u_k}{\\partial x_i}\\right)\\mathbf{e}_k+\n",
    "\\frac{\\partial }{\\partial x_i}\\left(\\frac{C}{2}|\\dot\\gamma|^{m-1}\\frac{\\partial u_i}{\\partial x_k}\\right)\\mathbf{e}_k=\n",
    "\\frac{\\partial p}{\\partial x_k}\\mathbf{e}_k\n",
    "\\end{equation}\n",
    "$$\n",
    "Note that, in this case, we have 2 equations for the 2 directions and 2 velocity variables which are in both equations. Therefore we will use a solution where we first solve one equation for one velocity direction and we use the result to solve for the other direction.\n",
    "\n",
    "We start importing the required libraries and setting some governing parameters of the problem. It is very similar to Stokes cavity Newtonian example, but here we have also included $m$ value and adapt the relaxation values to ones that worked fine for a range of $0.5\\leqslant m\\leqslant 1.5$. Note that with different values of $m$, we represent $C$ as the viscosity, the amount of sweeps required to converge may increase significantly. Consequently, it was incorporated a $\\epsilon$ factor to let the loop converge to a maximum residual, instead of the number of loops.\n",
    "\n",
    "Here we consider a 2D cavity with unit dimensions, no-slip condition at the walls, with a unit speed at the upper boundary. The mesh will consist of 50x50 grid."
   ]
  },
  {
   "cell_type": "code",
   "execution_count": null,
   "metadata": {},
   "outputs": [],
   "source": [
    "from fipy import *\n",
    "from fipy.tools import numerix\n",
    "L = 1.0 #CAnvity dimensions\n",
    "N = 50 #Number of divisions\n",
    "dL = L / N #Cel sizes\n",
    "viscosity = 1. #Consistency viscosity value. The value \"C\" from Ostwald fluid model.\n",
    "m=1.5 #Fisrt value of the behavior constant will set the case as newtonian\n",
    "eps=0.05 #criteria to stop\n",
    "U = 1.0 #upper boundary fluid velocity\n",
    "#0.4 for pressure and 0.02 for velocity worked fine for 0.5<=m<=1.5\n",
    "#worked for m=0.25\n",
    "pressureRelaxation = 0.4\n",
    "velocityRelaxation = 0.02 \n",
    "Re=U**(2-m)*L**m/viscosity #Added non-newtonian Reynolds number calculation for reference\n",
    "#the number of sweeps when explicit called is 300, when runing as instance of a test is 5\n",
    "if __name__ == '__main__':\n",
    "    sweeps = 15000\n",
    "else:\n",
    "    sweeps = 5"
   ]
  },
  {
   "cell_type": "markdown",
   "metadata": {},
   "source": [
    "We then build the mesh using a 2D grid."
   ]
  },
  {
   "cell_type": "code",
   "execution_count": null,
   "metadata": {},
   "outputs": [],
   "source": [
    "mesh = Grid2D(nx=N, ny=N, dx=dL, dy=dL)"
   ]
  },
  {
   "cell_type": "markdown",
   "metadata": {},
   "source": [
    "Then, we create the variables which keeps the solution value and initialize it with null values. In this case we need variables for pressure, pressure correction, and two directions of the velocity field."
   ]
  },
  {
   "cell_type": "code",
   "execution_count": null,
   "metadata": {},
   "outputs": [],
   "source": [
    "pressure = CellVariable(mesh=mesh, name='pressure')\n",
    "pressureCorrection = CellVariable(mesh=mesh)\n",
    "xVelocity = CellVariable(mesh=mesh, name='X velocity')\n",
    "yVelocity = CellVariable(mesh=mesh, name='Y velocity')"
   ]
  },
  {
   "cell_type": "markdown",
   "metadata": {},
   "source": [
    "For Coupling purpose the velocity is also declared in as a face variable. It will be used to apply SIMPLE calculation for pressure correction."
   ]
  },
  {
   "cell_type": "code",
   "execution_count": null,
   "metadata": {},
   "outputs": [],
   "source": [
    "velocity = FaceVariable(mesh=mesh, rank=1)"
   ]
  },
  {
   "cell_type": "markdown",
   "metadata": {},
   "source": [
    "We add a velocity cell variable to compute velocity gradients to be used in the shear strain tensor."
   ]
  },
  {
   "cell_type": "code",
   "execution_count": null,
   "metadata": {},
   "outputs": [],
   "source": [
    "velocity_variable=CellVariable(mesh=mesh, name='vel_var',rank=1)"
   ]
  },
  {
   "cell_type": "markdown",
   "metadata": {},
   "source": [
    "We add a new shear strain variable since we need that to calculate the Apparent viscosity."
   ]
  },
  {
   "cell_type": "code",
   "execution_count": null,
   "metadata": {},
   "outputs": [],
   "source": [
    "shear_strain=CellVariable(mesh=mesh,value=velocity_variable.grad,name='ShearStrain',rank=2)"
   ]
  },
  {
   "cell_type": "markdown",
   "metadata": {},
   "source": [
    "The shear strain variable is initialize with one velocity gradient"
   ]
  },
  {
   "cell_type": "code",
   "execution_count": null,
   "metadata": {},
   "outputs": [],
   "source": [
    "shear_strain.setValue(velocity_variable.grad)"
   ]
  },
  {
   "cell_type": "markdown",
   "metadata": {},
   "source": [
    "We then use some equation to calculate the velocity gradient transpose to use it in the shear strain calculation."
   ]
  },
  {
   "cell_type": "code",
   "execution_count": null,
   "metadata": {},
   "outputs": [],
   "source": [
    "du,dv=shear_strain[0]\n",
    "dw,dy=shear_strain[1]"
   ]
  },
  {
   "cell_type": "code",
   "execution_count": null,
   "metadata": {},
   "outputs": [],
   "source": [
    "grad_transpose=CellVariable(mesh=mesh,value=[[du,dw],[dv,dy]], name='Grad Trasnpose',rank=2)"
   ]
  },
  {
   "cell_type": "markdown",
   "metadata": {},
   "source": [
    "The shear strain variable is initialized again to incorporate the actual calculation using the gradient transpose."
   ]
  },
  {
   "cell_type": "code",
   "execution_count": null,
   "metadata": {},
   "outputs": [],
   "source": [
    "shear_strain=CellVariable(mesh=mesh,value=1./2.*(velocity_variable.grad+grad_transpose),name='ShearStrain',rank=2)"
   ]
  },
  {
   "cell_type": "markdown",
   "metadata": {},
   "source": [
    "We create a scalar variable in order to store the actual shear strain modulus instead of the shear strain tensor."
   ]
  },
  {
   "cell_type": "code",
   "execution_count": null,
   "metadata": {},
   "outputs": [],
   "source": [
    "shear_cellvalue=CellVariable(mesh=mesh,value=1.)"
   ]
  },
  {
   "cell_type": "markdown",
   "metadata": {},
   "source": [
    "We collect the array value from the shear modulus variable"
   ]
  },
  {
   "cell_type": "code",
   "execution_count": null,
   "metadata": {},
   "outputs": [],
   "source": [
    "SS=shear_cellvalue.value"
   ]
  },
  {
   "cell_type": "markdown",
   "metadata": {},
   "source": [
    "Now we have to set the equations to be solved. Since the coefficient depends on the absolute value of the speed gradient we have to build terms that use the shear strain modulus."
   ]
  },
  {
   "cell_type": "markdown",
   "metadata": {},
   "source": [
    "We create the terms for anisotropic diferential equation"
   ]
  },
  {
   "cell_type": "code",
   "execution_count": null,
   "metadata": {},
   "outputs": [],
   "source": [
    "xTerm1=CellVariable(mesh=mesh,value=[[0.,0.],[0.,0.]])\n",
    "xTerm2=CellVariable(mesh=mesh,value=[[0.,0.],[0.,0.]])\n",
    "yTerm1=CellVariable(mesh=mesh,value=[[0.,0.],[0.,0.]])\n",
    "yTerm2=CellVariable(mesh=mesh,value=[[0.,0.],[0.,0.]])"
   ]
  },
  {
   "cell_type": "markdown",
   "metadata": {},
   "source": [
    "We create the terms using the shear strain modulus array. And the coefficients are defined based on the expansion of Eq. (9)."
   ]
  },
  {
   "cell_type": "code",
   "execution_count": null,
   "metadata": {},
   "outputs": [],
   "source": [
    "xTerm1.setValue([[viscosity*SS**(m-1),SS*0.],[SS*0.,viscosity*SS**(m-1.)*0.5]])\n",
    "yTerm1.setValue([[SS*0.,viscosity*SS**(m-1)*0.5],[SS*0.,SS*0.]])"
   ]
  },
  {
   "cell_type": "code",
   "execution_count": null,
   "metadata": {},
   "outputs": [],
   "source": [
    "xTerm2.setValue([[SS*0.,SS*0.],[viscosity*SS**(m-1.)*0.5,0.0*SS]])\n",
    "yTerm2.setValue([[viscosity*SS**(m-1)*0.5,SS*0.],[SS*0.,viscosity*SS**(m-1.)]])"
   ]
  },
  {
   "cell_type": "markdown",
   "metadata": {},
   "source": [
    "We create the equation for x and y directions."
   ]
  },
  {
   "cell_type": "code",
   "execution_count": null,
   "metadata": {},
   "outputs": [],
   "source": [
    "xVelocityEq = DiffusionTerm(xTerm1,var=xVelocity)+DiffusionTerm(xTerm2,var=yVelocity)-pressure.grad.dot([1., 0.])\n",
    "yVelocityEq = DiffusionTerm(yTerm1,var=xVelocity)+DiffusionTerm(yTerm2,var=yVelocity)-pressure.grad.dot([0., 1.])"
   ]
  },
  {
   "cell_type": "markdown",
   "metadata": {},
   "source": [
    "We need the pressure correction equation."
   ]
  },
  {
   "cell_type": "code",
   "execution_count": null,
   "metadata": {},
   "outputs": [],
   "source": [
    "ap = CellVariable(mesh=mesh, value=1.)\n",
    "coeff = 1./ ap.arithmeticFaceValue*mesh._faceAreas * mesh._cellDistances\n",
    "pressureCorrectionEq = DiffusionTerm(coeff=coeff) - velocity.divergence"
   ]
  },
  {
   "cell_type": "markdown",
   "metadata": {},
   "source": [
    "This method also incorporate the Rie-Chow interpolation correction to soft the numerical oscillations. Since for SIMPLE method we linearize the equation and use the linear coefficients, we can use the same approach, even though we now have a non-Newtonian fluid."
   ]
  },
  {
   "cell_type": "code",
   "execution_count": null,
   "metadata": {},
   "outputs": [],
   "source": [
    "from fipy.variables.faceGradVariable import _FaceGradVariable\n",
    "volume = CellVariable(mesh=mesh, value=mesh.cellVolumes, name='Volume')\n",
    "contrvolume=volume.arithmeticFaceValue"
   ]
  },
  {
   "cell_type": "markdown",
   "metadata": {},
   "source": [
    "Set the boundaries conditions of no slip and uniform velocity in the upper boundary."
   ]
  },
  {
   "cell_type": "code",
   "execution_count": null,
   "metadata": {},
   "outputs": [],
   "source": [
    "xVelocity.constrain(0., mesh.facesRight | mesh.facesLeft | mesh.facesBottom)\n",
    "xVelocity.constrain(U, mesh.facesTop)\n",
    "yVelocity.constrain(0., mesh.exteriorFaces)\n",
    "X, Y = mesh.faceCenters\n",
    "pressureCorrection.constrain(0., mesh.facesLeft & (Y < dL))"
   ]
  },
  {
   "cell_type": "markdown",
   "metadata": {},
   "source": [
    "Set up the viewers"
   ]
  },
  {
   "cell_type": "code",
   "execution_count": null,
   "metadata": {},
   "outputs": [],
   "source": [
    "import matplotlib.pyplot as plt\n",
    "plt.rcParams['figure.figsize']=(10,10)"
   ]
  },
  {
   "cell_type": "code",
   "execution_count": null,
   "metadata": {},
   "outputs": [],
   "source": [
    "if __name__ == '__main__':\n",
    "    viewer = Viewer(vars=(velocity),\n",
    "               xmin=0., xmax=1., ymin=0., ymax=1., colorbar=True,scale=5)"
   ]
  },
  {
   "cell_type": "markdown",
   "metadata": {},
   "source": [
    "Now solve the problem with sweep instead of solve."
   ]
  },
  {
   "cell_type": "code",
   "execution_count": null,
   "metadata": {},
   "outputs": [],
   "source": [
    "from builtins import range\n",
    "for sweep in range(sweeps):\n",
    "#while min(xres,yres)>0.01:\n",
    "    \n",
    "     ## solve the Stokes equations to get starred values\n",
    "     xVelocityEq.cacheMatrix()\n",
    "     \n",
    "    #solving for x and y velocities\n",
    "     \n",
    "     xres = xVelocityEq.sweep(var=xVelocity,\n",
    "                              underRelaxation=velocityRelaxation)\n",
    "  \n",
    "     xmat = xVelocityEq.matrix\n",
    "\n",
    "     yres = yVelocityEq.sweep(var=yVelocity,\n",
    "                              underRelaxation=velocityRelaxation)\n",
    "\n",
    "        #solving again to adjust the x and y velocity values########################\n",
    "     xres = xVelocityEq.sweep(var=xVelocity,\n",
    "                              underRelaxation=velocityRelaxation)\n",
    "     xmat = xVelocityEq.matrix\n",
    "\n",
    "     yres = yVelocityEq.sweep(var=yVelocity,\n",
    "                              underRelaxation=velocityRelaxation)\n",
    "     ############################################################################\n",
    "     \n",
    "    \n",
    "    ## update the ap coefficient from the matrix diagonal\n",
    "     ap[:] = -numerix.asarray(xmat.takeDiagonal())\n",
    "\n",
    "     ## update the face velocities based on starred values with the\n",
    "     ## Rhie-Chow correction.\n",
    "     ## cell pressure gradient\n",
    "     presgrad = pressure.grad\n",
    "     ## face pressure gradient\n",
    "     facepresgrad = _FaceGradVariable(pressure)\n",
    "\n",
    "     velocity[0] = xVelocity.arithmeticFaceValue \\\n",
    "         + contrvolume / ap.arithmeticFaceValue * \\\n",
    "            (presgrad[0].arithmeticFaceValue-facepresgrad[0])\n",
    "     velocity[1] = yVelocity.arithmeticFaceValue \\\n",
    "          + contrvolume / ap.arithmeticFaceValue * \\\n",
    "            (presgrad[1].arithmeticFaceValue-facepresgrad[1])\n",
    "     velocity[..., mesh.exteriorFaces.value] = 0.\n",
    "     velocity[0, mesh.facesTop.value] = U\n",
    "\n",
    "     ## solve the pressure correction equation\n",
    "     pressureCorrectionEq.cacheRHSvector()\n",
    "     ## left bottom point must remain at pressure 0, so no correction\n",
    "     pres = pressureCorrectionEq.sweep(var=pressureCorrection)\n",
    "     rhs = pressureCorrectionEq.RHSvector\n",
    "\n",
    "     ## update the pressure using the corrected value\n",
    "     pressure.setValue(pressure + pressureRelaxation * pressureCorrection )\n",
    "     ## update the velocity using the corrected pressure\n",
    "     xVelocity.setValue(xVelocity - pressureCorrection.grad[0] / \\\n",
    "                                                ap * mesh.cellVolumes)\n",
    "     yVelocity.setValue(yVelocity - pressureCorrection.grad[1] / \\\n",
    "                                                ap * mesh.cellVolumes)\n",
    "     \n",
    "    ###Incorporating shear_strain_calculation\n",
    "     velocity_variable.setValue([xVelocity,yVelocity])\n",
    "     shear_strain.setValue(velocity_variable.grad)\n",
    "     du,dv=shear_strain[0]\n",
    "     dw,dy=shear_strain[1]\n",
    "     grad_transpose.setValue([[du,dw],[dv,dy]])\n",
    "     shear_strain.setValue(1./2.*(velocity_variable.grad+grad_transpose))\n",
    "     shear_cellvalue.setValue((shear_strain[0].mag**2.+shear_strain[1].mag**2.)**0.5)\n",
    "     SS=shear_cellvalue.value\n",
    "     xTerm1.setValue([[viscosity*SS**(m-1.),SS*0.],[SS*0.,viscosity*SS**(m-1.)*0.5]])\n",
    "     xTerm2.setValue([[SS*0.,SS*0.],[viscosity*SS**(m-1.)*0.5,SS*0.]])\n",
    "     yTerm1.setValue([[SS*0.,viscosity*SS**(m-1)*0.5],[SS*0.,SS*0.]])\n",
    "     yTerm2.setValue([[viscosity*SS**(m-1)*0.5,SS*0.],[SS*0.,viscosity*SS**(m-1.)]])\n",
    "             \n",
    "     if __name__ == '__main__':\n",
    "         if sweep%50 == 0:\n",
    "             print('sweep:', sweep, ', x residual:', xres, \\\n",
    "                                  ', y residual', yres, \\\n",
    "                                  ', p residual:', pres, \\\n",
    "                                  ', continuity:', max(abs(rhs)))\n",
    "             plt.figure(num=1,figsize=(10,10))\n",
    "      \n",
    "            \n",
    "     \n",
    "             viewer.plot()\n",
    "     #Criteria to stop\n",
    "     if (max(xres,yres)<eps):\n",
    "        print(\"Residuals are less than: 0.01\")\n",
    "        break        \n",
    "     else:\n",
    "        continue"
   ]
  }
 ],
 "metadata": {
  "kernelspec": {
   "display_name": "Python 3",
   "language": "python",
   "name": "python3"
  },
  "language_info": {
   "codemirror_mode": {
    "name": "ipython",
    "version": 3
   },
   "file_extension": ".py",
   "mimetype": "text/x-python",
   "name": "python",
   "nbconvert_exporter": "python",
   "pygments_lexer": "ipython3",
   "version": "3.7.6"
  }
 },
 "nbformat": 4,
 "nbformat_minor": 4
}
